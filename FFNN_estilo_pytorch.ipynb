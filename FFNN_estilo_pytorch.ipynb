{
  "nbformat": 4,
  "nbformat_minor": 0,
  "metadata": {
    "colab": {
      "name": "FFNN_estilo_pytorch",
      "provenance": [],
      "collapsed_sections": [],
      "include_colab_link": true
    },
    "kernelspec": {
      "name": "python3",
      "display_name": "Python 3"
    },
    "accelerator": "GPU"
  },
  "cells": [
    {
      "cell_type": "markdown",
      "metadata": {
        "id": "view-in-github",
        "colab_type": "text"
      },
      "source": [
        "<a href=\"https://colab.research.google.com/github/ilich917/data-science-ipython-notebooks/blob/master/FFNN_estilo_pytorch.ipynb\" target=\"_parent\"><img src=\"https://colab.research.google.com/assets/colab-badge.svg\" alt=\"Open In Colab\"/></a>"
      ]
    },
    {
      "cell_type": "markdown",
      "metadata": {
        "id": "rr5EsNZxJhN8"
      },
      "source": [
        "# CC6204 Deep Learning, Universidad de Chile\n",
        "## Código de Red Neuronal estilo pytorch\n",
        "El siguiente código muestra la manera estándard de crear una red neuronal Feed Forward de dos capas escondidas usando todas las funcionalidades de pytorch. La idea es que el código sirva para aprender la arquitectura general de red+entrenamiento+predicción usando las clases abstractas de pytorch además de las utilidades que entrega para crear capaz escondidas con muy poco esfuerzo. Al igual como las capas lineales creadas en este ejemplo, se pueden agregar, por ejemplo, capas convolucionales que empezaremos a ver en la segunda parte del curso."
      ]
    },
    {
      "cell_type": "markdown",
      "metadata": {
        "id": "5AZ0MHy17fOv"
      },
      "source": [
        "Código por Jorge Pérez\n",
        "\n",
        "https://github.com/jorgeperezrojas\n",
        "\n",
        "[@perez](https://twitter.com/perez)"
      ]
    },
    {
      "cell_type": "code",
      "metadata": {
        "id": "2JVQ13l32QpB"
      },
      "source": [
        "# Esto es solo para poder debugear.\n",
        "# !pip install -q ipdb\n",
        "\n",
        "import torch\n",
        "import numpy as np\n",
        "import sys\n",
        "import time\n",
        "# import ipdb\n",
        "\n",
        "# Genera una semilla fija para que los experimentos sea repetibles.\n",
        "t_cg = torch.manual_seed(1547)"
      ],
      "execution_count": null,
      "outputs": []
    },
    {
      "cell_type": "code",
      "metadata": {
        "id": "gW5MjPReZLhY"
      },
      "source": [
        "# Red estilo pytorch\n",
        "class FFNN(torch.nn.Module):\n",
        "  def __init__(self, d0=300, d1=200, d2=300):\n",
        "    super(FFNN, self).__init__()\n",
        "    \n",
        "    # Definimos capas (automáticamente se registran como parametros)\n",
        "    self.fc1 = torch.nn.Linear(d0, d1, bias=True)\n",
        "    self.fc2 = torch.nn.Linear(d1, d2, bias=True)\n",
        "    self.fc3 = torch.nn.Linear(d2,  1, bias=True)\n",
        "          \n",
        "  # Computa la pasada hacia adelante\n",
        "  def forward(self, x):\n",
        "  \n",
        "    u1 = self.fc1(x)\n",
        "    h1 = torch.tanh(u1)\n",
        "    u2 = self.fc2(h1)\n",
        "    h2 = torch.sigmoid(u2)\n",
        "    u3 = self.fc3(h2)\n",
        "    y_pred = torch.sigmoid(u3)\n",
        "      \n",
        "    return y_pred"
      ],
      "execution_count": null,
      "outputs": []
    },
    {
      "cell_type": "code",
      "metadata": {
        "id": "ui-y_i-UR1Rz"
      },
      "source": [
        "from torch.utils.data import Dataset, DataLoader\n",
        "\n",
        "class RandomDataSet(Dataset):\n",
        "  def __init__(self, N, f):\n",
        "    R_N_f = torch.rand(N,f)\n",
        "    self.X = torch.bernoulli(R_N_f)\n",
        "    R_N_1 = torch.rand(N,1)\n",
        "    self.Y = torch.bernoulli(R_N_1)\n",
        "    self.num_features = f\n",
        "    \n",
        "  # Debemos definir __len__ para retornar el tamaño del dataset\n",
        "  def __len__(self):\n",
        "    return self.X.size()[0]\n",
        "\n",
        "  # Debemos definir __getitem__ para retornar el i-ésimo \n",
        "  # ejemplo en nuestro dataset.\n",
        "  def __getitem__(self, i):\n",
        "    return self.X[i], self.Y[i]"
      ],
      "execution_count": null,
      "outputs": []
    },
    {
      "cell_type": "code",
      "metadata": {
        "id": "Sh96-3s-ZjSL"
      },
      "source": [
        "def loop_FFNN(dataset, batch_size, d1, d2, lr, \n",
        "                 epochs, run_in_GPU=True, reports_every=1, \n",
        "                 cheq_grad=False):\n",
        "  \n",
        "  # Define un tipo para los tensores según si correrá en la GPU o no\n",
        "  device = 'cuda' if run_in_GPU else 'cpu'\n",
        "    \n",
        "  # d0 es la cantidad de features  \n",
        "  d0 = dataset.num_features\n",
        "  \n",
        "  # Crea la red\n",
        "  red = FFNN(d0, d1, d2)\n",
        "    \n",
        "  # Pasa la red al dispositivo elegido\n",
        "  red.to(device)\n",
        "        \n",
        "  # Muestra la cantidad de parámetros\n",
        "  print('Red:', red)\n",
        "  \n",
        "  # Crea un dataloader desde el dataset\n",
        "  data = DataLoader(dataset, batch_size, shuffle=True)\n",
        "  \n",
        "  # Crea un optimizador para el descenso de gradiente\n",
        "  optimizador = torch.optim.SGD(red.parameters(), lr)\n",
        "  \n",
        "  # Define una perdida\n",
        "  perdida = torch.nn.BCELoss()\n",
        "  \n",
        "  # Comienza el entrenamiento\n",
        "  tiempo_epochs = 0\n",
        "  for e in range(1,epochs+1):  \n",
        "    inicio_epoch = time.clock()\n",
        "    \n",
        "    for (x,y) in data:     \n",
        "      # Asegura de pasarlos a la GPU si fuera necesario\n",
        "      x, y = x.to(device), y.to(device)\n",
        "      \n",
        "      # Computa la pasada hacia adelante (forward)\n",
        "      y_pred = red.forward(x)\n",
        "      \n",
        "      # Computa la función de pérdida\n",
        "      L = perdida(y_pred,y)\n",
        "      \n",
        "      # Computa los gradientes hacia atrás (backpropagation)\n",
        "      L.backward()\n",
        "      \n",
        "      # Descenso de gradiente para actualizar los parámetros\n",
        "      optimizador.step()\n",
        "      \n",
        "      # Limpia los gradientes\n",
        "      optimizador.zero_grad()\n",
        "      \n",
        "    tiempo_epochs += time.clock() - inicio_epoch\n",
        "    \n",
        "    if e % reports_every == 0:\n",
        "      # Calcula la certeza de las predicciones sobre todo el conjunto\n",
        "      X = dataset.X.to(device)\n",
        "      Y = dataset.Y.to(device)\n",
        "\n",
        "      # Predice usando la red\n",
        "      Y_PRED = red.forward(X)\n",
        "      \n",
        "      # Calcula la pérdida de todo el conjunto\n",
        "      L_total = perdida(Y_PRED, Y)\n",
        "\n",
        "      # Elige una clase dependiendo del valor de Y_PRED\n",
        "      Y_PRED_BIN = (Y_PRED >= 0.5).float()\n",
        "\n",
        "      correctos = torch.sum(Y_PRED_BIN == Y).item()\n",
        "      acc = (correctos / N) * 100\n",
        "\n",
        "      sys.stdout.write(\n",
        "            '\\rEpoch:{0:03d}'.format(e) + ' Acc:{0:.2f}%'.format(acc)\n",
        "            + ' Loss:{0:.4f}'.format(L_total) \n",
        "            + ' Tiempo/epoch:{0:.3f}s'.format(tiempo_epochs/e))"
      ],
      "execution_count": null,
      "outputs": []
    },
    {
      "cell_type": "code",
      "metadata": {
        "id": "GJx5kndFBhgi"
      },
      "source": [
        "N = 5000 # numero de ejemplos\n",
        "f = 300 # numero de features\n",
        "\n",
        "dataset = RandomDataSet(N,f)"
      ],
      "execution_count": null,
      "outputs": []
    },
    {
      "cell_type": "code",
      "metadata": {
        "id": "XgaASdM0FnJ9"
      },
      "source": [
        "epochs = 50\n",
        "loop_FFNN(dataset, batch_size=10, d1=300, d2=400, epochs=epochs, \n",
        "             run_in_GPU=True, lr=0.05)"
      ],
      "execution_count": null,
      "outputs": []
    },
    {
      "cell_type": "code",
      "metadata": {
        "id": "GkFlQM2saRsH"
      },
      "source": [
        ""
      ],
      "execution_count": null,
      "outputs": []
    }
  ]
}